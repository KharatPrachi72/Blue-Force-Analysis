{
 "cells": [
  {
   "cell_type": "markdown",
   "metadata": {},
   "source": [
    "# *Blue Lives Matter* \n",
    "\n",
    "- by Prachi Kharat"
   ]
  },
  {
   "cell_type": "markdown",
   "metadata": {},
   "source": [
    "## 1) Objective of the proposed research-"
   ]
  },
  {
   "cell_type": "markdown",
   "metadata": {},
   "source": [
    "The objective of this research is for \"Blue Force Analysis\" to give insights to Police enforcement officers across the nation on the four major crimes the FBI classifies as violent — homicide, rape, robbery and assault. This report depicts which areas of US are leading in the violent crimes catagory. In this report, city with maximum crimes is found and information is given about major crimes in this city over the period of time.<br>\n",
    "<br>\n",
    "This data was acquired from the FBI Uniform Crime Reporting program's \"Offenses Known and Clearances by Arrest\" database. This dataset include information from 68 police jurisdictions with populations of 250,000 or greater.<br>\n",
    "<br>\n",
    "This report focuses on answers to questions like 'Are violent crimes in recent years more than 80s or 90s?', Is there decrease in these crimes in modern times due to modern weapons provided to officers?  \n"
   ]
  },
  {
   "cell_type": "markdown",
   "metadata": {},
   "source": [
    "## 2) Data Exploration-"
   ]
  },
  {
   "cell_type": "markdown",
   "metadata": {},
   "source": [
    "First we will read the data and print first ten rows of it to understand it.\n",
    "#### First 10 rows"
   ]
  },
  {
   "cell_type": "code",
   "execution_count": 18,
   "metadata": {},
   "outputs": [
    {
     "data": {
      "text/html": [
       "<div>\n",
       "<style scoped>\n",
       "    .dataframe tbody tr th:only-of-type {\n",
       "        vertical-align: middle;\n",
       "    }\n",
       "\n",
       "    .dataframe tbody tr th {\n",
       "        vertical-align: top;\n",
       "    }\n",
       "\n",
       "    .dataframe thead th {\n",
       "        text-align: right;\n",
       "    }\n",
       "</style>\n",
       "<table border=\"1\" class=\"dataframe\">\n",
       "  <thead>\n",
       "    <tr style=\"text-align: right;\">\n",
       "      <th></th>\n",
       "      <th>report_year</th>\n",
       "      <th>agency_code</th>\n",
       "      <th>agency_jurisdiction</th>\n",
       "      <th>population</th>\n",
       "      <th>violent_crimes</th>\n",
       "      <th>homicides</th>\n",
       "      <th>rapes</th>\n",
       "      <th>assaults</th>\n",
       "      <th>robberies</th>\n",
       "      <th>months_reported</th>\n",
       "      <th>crimes_percapita</th>\n",
       "      <th>homicides_percapita</th>\n",
       "      <th>rapes_percapita</th>\n",
       "      <th>assaults_percapita</th>\n",
       "      <th>robberies_percapita</th>\n",
       "    </tr>\n",
       "  </thead>\n",
       "  <tbody>\n",
       "    <tr>\n",
       "      <th>0</th>\n",
       "      <td>1975</td>\n",
       "      <td>NM00101</td>\n",
       "      <td>Albuquerque, NM</td>\n",
       "      <td>286238.0</td>\n",
       "      <td>2383.0</td>\n",
       "      <td>30.0</td>\n",
       "      <td>181.0</td>\n",
       "      <td>1353.0</td>\n",
       "      <td>819.0</td>\n",
       "      <td>12.0</td>\n",
       "      <td>832.52</td>\n",
       "      <td>10.48</td>\n",
       "      <td>63.23</td>\n",
       "      <td>472.68</td>\n",
       "      <td>286.13</td>\n",
       "    </tr>\n",
       "    <tr>\n",
       "      <th>1</th>\n",
       "      <td>1975</td>\n",
       "      <td>TX22001</td>\n",
       "      <td>Arlington, TX</td>\n",
       "      <td>112478.0</td>\n",
       "      <td>278.0</td>\n",
       "      <td>5.0</td>\n",
       "      <td>28.0</td>\n",
       "      <td>132.0</td>\n",
       "      <td>113.0</td>\n",
       "      <td>12.0</td>\n",
       "      <td>247.16</td>\n",
       "      <td>4.45</td>\n",
       "      <td>24.89</td>\n",
       "      <td>117.36</td>\n",
       "      <td>100.46</td>\n",
       "    </tr>\n",
       "    <tr>\n",
       "      <th>2</th>\n",
       "      <td>1975</td>\n",
       "      <td>GAAPD00</td>\n",
       "      <td>Atlanta, GA</td>\n",
       "      <td>490584.0</td>\n",
       "      <td>8033.0</td>\n",
       "      <td>185.0</td>\n",
       "      <td>443.0</td>\n",
       "      <td>3518.0</td>\n",
       "      <td>3887.0</td>\n",
       "      <td>12.0</td>\n",
       "      <td>1637.44</td>\n",
       "      <td>37.71</td>\n",
       "      <td>90.30</td>\n",
       "      <td>717.10</td>\n",
       "      <td>792.32</td>\n",
       "    </tr>\n",
       "    <tr>\n",
       "      <th>3</th>\n",
       "      <td>1975</td>\n",
       "      <td>CO00101</td>\n",
       "      <td>Aurora, CO</td>\n",
       "      <td>116656.0</td>\n",
       "      <td>611.0</td>\n",
       "      <td>7.0</td>\n",
       "      <td>44.0</td>\n",
       "      <td>389.0</td>\n",
       "      <td>171.0</td>\n",
       "      <td>12.0</td>\n",
       "      <td>523.76</td>\n",
       "      <td>6.00</td>\n",
       "      <td>37.72</td>\n",
       "      <td>333.46</td>\n",
       "      <td>146.58</td>\n",
       "    </tr>\n",
       "    <tr>\n",
       "      <th>4</th>\n",
       "      <td>1975</td>\n",
       "      <td>TX22701</td>\n",
       "      <td>Austin, TX</td>\n",
       "      <td>300400.0</td>\n",
       "      <td>1215.0</td>\n",
       "      <td>33.0</td>\n",
       "      <td>190.0</td>\n",
       "      <td>463.0</td>\n",
       "      <td>529.0</td>\n",
       "      <td>12.0</td>\n",
       "      <td>404.46</td>\n",
       "      <td>10.99</td>\n",
       "      <td>63.25</td>\n",
       "      <td>154.13</td>\n",
       "      <td>176.10</td>\n",
       "    </tr>\n",
       "    <tr>\n",
       "      <th>5</th>\n",
       "      <td>1975</td>\n",
       "      <td>MD00301</td>\n",
       "      <td>Baltimore County, MD</td>\n",
       "      <td>642154.0</td>\n",
       "      <td>1259.0</td>\n",
       "      <td>25.0</td>\n",
       "      <td>137.0</td>\n",
       "      <td>347.0</td>\n",
       "      <td>750.0</td>\n",
       "      <td>12.0</td>\n",
       "      <td>196.06</td>\n",
       "      <td>3.89</td>\n",
       "      <td>21.33</td>\n",
       "      <td>54.04</td>\n",
       "      <td>116.79</td>\n",
       "    </tr>\n",
       "    <tr>\n",
       "      <th>6</th>\n",
       "      <td>1975</td>\n",
       "      <td>MDBPD00</td>\n",
       "      <td>Baltimore, MD</td>\n",
       "      <td>864100.0</td>\n",
       "      <td>16086.0</td>\n",
       "      <td>259.0</td>\n",
       "      <td>463.0</td>\n",
       "      <td>6309.0</td>\n",
       "      <td>9055.0</td>\n",
       "      <td>12.0</td>\n",
       "      <td>1861.59</td>\n",
       "      <td>29.97</td>\n",
       "      <td>53.58</td>\n",
       "      <td>730.12</td>\n",
       "      <td>1047.91</td>\n",
       "    </tr>\n",
       "    <tr>\n",
       "      <th>7</th>\n",
       "      <td>1975</td>\n",
       "      <td>MA01301</td>\n",
       "      <td>Boston, MA</td>\n",
       "      <td>616120.0</td>\n",
       "      <td>11386.0</td>\n",
       "      <td>119.0</td>\n",
       "      <td>453.0</td>\n",
       "      <td>3036.0</td>\n",
       "      <td>7778.0</td>\n",
       "      <td>12.0</td>\n",
       "      <td>1848.02</td>\n",
       "      <td>19.31</td>\n",
       "      <td>73.52</td>\n",
       "      <td>492.76</td>\n",
       "      <td>1262.42</td>\n",
       "    </tr>\n",
       "    <tr>\n",
       "      <th>8</th>\n",
       "      <td>1975</td>\n",
       "      <td>NY01401</td>\n",
       "      <td>Buffalo, NY</td>\n",
       "      <td>422276.0</td>\n",
       "      <td>3350.0</td>\n",
       "      <td>63.0</td>\n",
       "      <td>192.0</td>\n",
       "      <td>755.0</td>\n",
       "      <td>2340.0</td>\n",
       "      <td>12.0</td>\n",
       "      <td>793.32</td>\n",
       "      <td>14.92</td>\n",
       "      <td>45.47</td>\n",
       "      <td>178.79</td>\n",
       "      <td>554.14</td>\n",
       "    </tr>\n",
       "    <tr>\n",
       "      <th>9</th>\n",
       "      <td>1975</td>\n",
       "      <td>NC06001</td>\n",
       "      <td>Charlotte, NC</td>\n",
       "      <td>262103.0</td>\n",
       "      <td>1937.0</td>\n",
       "      <td>68.0</td>\n",
       "      <td>71.0</td>\n",
       "      <td>976.0</td>\n",
       "      <td>822.0</td>\n",
       "      <td>12.0</td>\n",
       "      <td>739.02</td>\n",
       "      <td>25.94</td>\n",
       "      <td>27.09</td>\n",
       "      <td>372.37</td>\n",
       "      <td>313.62</td>\n",
       "    </tr>\n",
       "  </tbody>\n",
       "</table>\n",
       "</div>"
      ],
      "text/plain": [
       "   report_year agency_code   agency_jurisdiction  population  violent_crimes  \\\n",
       "0         1975     NM00101       Albuquerque, NM    286238.0          2383.0   \n",
       "1         1975     TX22001         Arlington, TX    112478.0           278.0   \n",
       "2         1975     GAAPD00           Atlanta, GA    490584.0          8033.0   \n",
       "3         1975     CO00101            Aurora, CO    116656.0           611.0   \n",
       "4         1975     TX22701            Austin, TX    300400.0          1215.0   \n",
       "5         1975     MD00301  Baltimore County, MD    642154.0          1259.0   \n",
       "6         1975     MDBPD00         Baltimore, MD    864100.0         16086.0   \n",
       "7         1975     MA01301            Boston, MA    616120.0         11386.0   \n",
       "8         1975     NY01401           Buffalo, NY    422276.0          3350.0   \n",
       "9         1975     NC06001         Charlotte, NC    262103.0          1937.0   \n",
       "\n",
       "   homicides  rapes  assaults  robberies  months_reported  crimes_percapita  \\\n",
       "0       30.0  181.0    1353.0      819.0             12.0            832.52   \n",
       "1        5.0   28.0     132.0      113.0             12.0            247.16   \n",
       "2      185.0  443.0    3518.0     3887.0             12.0           1637.44   \n",
       "3        7.0   44.0     389.0      171.0             12.0            523.76   \n",
       "4       33.0  190.0     463.0      529.0             12.0            404.46   \n",
       "5       25.0  137.0     347.0      750.0             12.0            196.06   \n",
       "6      259.0  463.0    6309.0     9055.0             12.0           1861.59   \n",
       "7      119.0  453.0    3036.0     7778.0             12.0           1848.02   \n",
       "8       63.0  192.0     755.0     2340.0             12.0            793.32   \n",
       "9       68.0   71.0     976.0      822.0             12.0            739.02   \n",
       "\n",
       "   homicides_percapita  rapes_percapita  assaults_percapita  \\\n",
       "0                10.48            63.23              472.68   \n",
       "1                 4.45            24.89              117.36   \n",
       "2                37.71            90.30              717.10   \n",
       "3                 6.00            37.72              333.46   \n",
       "4                10.99            63.25              154.13   \n",
       "5                 3.89            21.33               54.04   \n",
       "6                29.97            53.58              730.12   \n",
       "7                19.31            73.52              492.76   \n",
       "8                14.92            45.47              178.79   \n",
       "9                25.94            27.09              372.37   \n",
       "\n",
       "   robberies_percapita  \n",
       "0               286.13  \n",
       "1               100.46  \n",
       "2               792.32  \n",
       "3               146.58  \n",
       "4               176.10  \n",
       "5               116.79  \n",
       "6              1047.91  \n",
       "7              1262.42  \n",
       "8               554.14  \n",
       "9               313.62  "
      ]
     },
     "execution_count": 18,
     "metadata": {},
     "output_type": "execute_result"
    }
   ],
   "source": [
    "import numpy as np \n",
    "import pandas as pd\n",
    "import matplotlib.pyplot as plt\n",
    "import seaborn as sns\n",
    "d = pd.read_csv('report.csv') # read the csv dataset\n",
    "d.head(10)                    # print first 10 rows of the dataset"
   ]
  },
  {
   "cell_type": "markdown",
   "metadata": {},
   "source": [
    "Now we will see what coloumns are present in the dataset so we can better understand it.\n",
    "#### Names of the Columns present in the dataset\n",
    "The following are the columns given in the dataset."
   ]
  },
  {
   "cell_type": "code",
   "execution_count": 3,
   "metadata": {},
   "outputs": [
    {
     "data": {
      "text/plain": [
       "Index(['report_year', 'agency_code', 'agency_jurisdiction', 'population',\n",
       "       'violent_crimes', 'homicides', 'rapes', 'assaults', 'robberies',\n",
       "       'months_reported', 'crimes_percapita', 'homicides_percapita',\n",
       "       'rapes_percapita', 'assaults_percapita', 'robberies_percapita'],\n",
       "      dtype='object')"
      ]
     },
     "execution_count": 3,
     "metadata": {},
     "output_type": "execute_result"
    }
   ],
   "source": [
    "d.columns"
   ]
  },
  {
   "cell_type": "markdown",
   "metadata": {},
   "source": [
    "#### Total Rows and columns present in the dataset"
   ]
  },
  {
   "cell_type": "code",
   "execution_count": 4,
   "metadata": {},
   "outputs": [
    {
     "data": {
      "text/plain": [
       "2829"
      ]
     },
     "execution_count": 4,
     "metadata": {},
     "output_type": "execute_result"
    }
   ],
   "source": [
    "len(d.index) # Total number of rows "
   ]
  },
  {
   "cell_type": "code",
   "execution_count": 5,
   "metadata": {},
   "outputs": [
    {
     "data": {
      "text/plain": [
       "15"
      ]
     },
     "execution_count": 5,
     "metadata": {},
     "output_type": "execute_result"
    }
   ],
   "source": [
    "len(d.columns) # Total number of columns"
   ]
  },
  {
   "cell_type": "markdown",
   "metadata": {},
   "source": [
    "This dataset has 2829 enteries along 15 columns."
   ]
  },
  {
   "cell_type": "markdown",
   "metadata": {},
   "source": [
    "#### Description of Homicides column in the dataset"
   ]
  },
  {
   "cell_type": "code",
   "execution_count": 6,
   "metadata": {},
   "outputs": [
    {
     "data": {
      "text/plain": [
       "count     2795.000000\n",
       "mean       398.385331\n",
       "std       2281.276402\n",
       "min          1.000000\n",
       "25%         32.000000\n",
       "50%         64.000000\n",
       "75%        131.000000\n",
       "max      24703.000000\n",
       "Name: homicides, dtype: float64"
      ]
     },
     "execution_count": 6,
     "metadata": {},
     "output_type": "execute_result"
    }
   ],
   "source": [
    "d['homicides'].describe()"
   ]
  },
  {
   "cell_type": "markdown",
   "metadata": {},
   "source": [
    "From the above output it can be seen that, 25th percentile of homicides dataset is 32 <br>\n",
    "50th percentile is 64 <br>\n",
    "75th percentile is 131. <br>\n",
    "While the mean count is 398."
   ]
  },
  {
   "cell_type": "markdown",
   "metadata": {},
   "source": [
    "#### All the unique cities in the dataset"
   ]
  },
  {
   "cell_type": "markdown",
   "metadata": {},
   "source": [
    "The following are all the states and cities included in the dataset. "
   ]
  },
  {
   "cell_type": "code",
   "execution_count": 9,
   "metadata": {},
   "outputs": [
    {
     "data": {
      "text/plain": [
       "array(['Albuquerque, NM', 'Arlington, TX', 'Atlanta, GA', 'Aurora, CO',\n",
       "       'Austin, TX', 'Baltimore County, MD', 'Baltimore, MD',\n",
       "       'Boston, MA', 'Buffalo, NY', 'Charlotte, NC', 'Chicago, IL',\n",
       "       'Cincinnati, OH', 'Cleveland, OH', 'Columbus, OH', 'Dallas, TX',\n",
       "       'Denver, CO', 'Detroit, MI', 'El Paso, TX', 'Fairfax County, VA',\n",
       "       'Fort Worth, TX', 'Fresno, CA', 'Honolulu, HI', 'Houston, TX',\n",
       "       'Indianapolis, IN', 'Jacksonville, FL', 'Kansas City, MO',\n",
       "       'Las Vegas, NV', 'Long Beach, CA', 'Los Angeles County, CA',\n",
       "       'Los Angeles, CA', 'Louisville, KY', 'Memphis, TN', 'Mesa, AZ',\n",
       "       'Miami-Dade County, FL', 'Miami, FL', 'Milwaukee, WI',\n",
       "       'Minneapolis, MN', 'Montgomery County, MD', 'Nashville, TN',\n",
       "       'Nassau County, NY', 'New Orleans, LA', 'New York City, NY',\n",
       "       'Newark, NJ', 'Oakland, CA', 'Oklahoma City, OK', 'Omaha, NE',\n",
       "       'Orlando, FL', 'Philadelphia, PA', 'Phoenix, AZ', 'Pittsburgh, PA',\n",
       "       'Portland, OR', \"Prince George's County, MD\", 'Raleigh, NC',\n",
       "       'Sacramento, CA', 'Salt Lake City, UT', 'San Antonio, TX',\n",
       "       'San Diego, CA', 'San Francisco, CA', 'San Jose, CA',\n",
       "       'Seattle, WA', 'St. Louis, MO', 'Suffolk County, NY', 'Tampa, FL',\n",
       "       'Tucson, AZ', 'Tulsa, OK', 'Virginia Beach, VA', 'Washington, DC',\n",
       "       'Wichita, KS', 'United States'], dtype=object)"
      ]
     },
     "execution_count": 9,
     "metadata": {},
     "output_type": "execute_result"
    }
   ],
   "source": [
    "d['agency_jurisdiction'].unique()"
   ]
  },
  {
   "cell_type": "code",
   "execution_count": 10,
   "metadata": {},
   "outputs": [
    {
     "data": {
      "text/plain": [
       "69"
      ]
     },
     "execution_count": 10,
     "metadata": {},
     "output_type": "execute_result"
    }
   ],
   "source": [
    "d['agency_jurisdiction'].nunique()"
   ]
  },
  {
   "cell_type": "markdown",
   "metadata": {},
   "source": [
    "There are total of 69 cities and unique values represented in the dataset."
   ]
  },
  {
   "cell_type": "markdown",
   "metadata": {},
   "source": [
    "## 3) One column Selection"
   ]
  },
  {
   "cell_type": "markdown",
   "metadata": {},
   "source": [
    "The coloumn selected for this representation is Robberies as it is the most common crimes andmost difficult to solve."
   ]
  },
  {
   "cell_type": "markdown",
   "metadata": {},
   "source": [
    "The following table contains all the rows which have 10 highest counts of robberies taken place."
   ]
  },
  {
   "cell_type": "code",
   "execution_count": 7,
   "metadata": {},
   "outputs": [
    {
     "data": {
      "text/html": [
       "<div>\n",
       "<style scoped>\n",
       "    .dataframe tbody tr th:only-of-type {\n",
       "        vertical-align: middle;\n",
       "    }\n",
       "\n",
       "    .dataframe tbody tr th {\n",
       "        vertical-align: top;\n",
       "    }\n",
       "\n",
       "    .dataframe thead th {\n",
       "        text-align: right;\n",
       "    }\n",
       "</style>\n",
       "<table border=\"1\" class=\"dataframe\">\n",
       "  <thead>\n",
       "    <tr style=\"text-align: right;\">\n",
       "      <th></th>\n",
       "      <th>report_year</th>\n",
       "      <th>agency_code</th>\n",
       "      <th>agency_jurisdiction</th>\n",
       "      <th>population</th>\n",
       "      <th>violent_crimes</th>\n",
       "      <th>homicides</th>\n",
       "      <th>rapes</th>\n",
       "      <th>assaults</th>\n",
       "      <th>robberies</th>\n",
       "      <th>months_reported</th>\n",
       "      <th>crimes_percapita</th>\n",
       "      <th>homicides_percapita</th>\n",
       "      <th>rapes_percapita</th>\n",
       "      <th>assaults_percapita</th>\n",
       "      <th>robberies_percapita</th>\n",
       "    </tr>\n",
       "  </thead>\n",
       "  <tbody>\n",
       "    <tr>\n",
       "      <th>455</th>\n",
       "      <td>1981</td>\n",
       "      <td>NY03030</td>\n",
       "      <td>New York City, NY</td>\n",
       "      <td>7070429.0</td>\n",
       "      <td>156946.0</td>\n",
       "      <td>1826.0</td>\n",
       "      <td>3862.0</td>\n",
       "      <td>43783.0</td>\n",
       "      <td>107475.0</td>\n",
       "      <td>12.0</td>\n",
       "      <td>2219.75</td>\n",
       "      <td>25.83</td>\n",
       "      <td>54.62</td>\n",
       "      <td>619.24</td>\n",
       "      <td>1520.06</td>\n",
       "    </tr>\n",
       "    <tr>\n",
       "      <th>386</th>\n",
       "      <td>1980</td>\n",
       "      <td>NY03030</td>\n",
       "      <td>New York City, NY</td>\n",
       "      <td>7035348.0</td>\n",
       "      <td>149549.0</td>\n",
       "      <td>1812.0</td>\n",
       "      <td>3711.0</td>\n",
       "      <td>43476.0</td>\n",
       "      <td>100550.0</td>\n",
       "      <td>12.0</td>\n",
       "      <td>2125.68</td>\n",
       "      <td>25.76</td>\n",
       "      <td>52.75</td>\n",
       "      <td>617.97</td>\n",
       "      <td>1429.21</td>\n",
       "    </tr>\n",
       "    <tr>\n",
       "      <th>1076</th>\n",
       "      <td>1990</td>\n",
       "      <td>NY03030</td>\n",
       "      <td>New York City, NY</td>\n",
       "      <td>7322564.0</td>\n",
       "      <td>174542.0</td>\n",
       "      <td>2245.0</td>\n",
       "      <td>3126.0</td>\n",
       "      <td>68891.0</td>\n",
       "      <td>100280.0</td>\n",
       "      <td>12.0</td>\n",
       "      <td>2383.62</td>\n",
       "      <td>30.66</td>\n",
       "      <td>42.69</td>\n",
       "      <td>940.80</td>\n",
       "      <td>1369.47</td>\n",
       "    </tr>\n",
       "    <tr>\n",
       "      <th>1145</th>\n",
       "      <td>1991</td>\n",
       "      <td>NY03030</td>\n",
       "      <td>New York City, NY</td>\n",
       "      <td>7350023.0</td>\n",
       "      <td>170390.0</td>\n",
       "      <td>2154.0</td>\n",
       "      <td>2892.0</td>\n",
       "      <td>66832.0</td>\n",
       "      <td>98512.0</td>\n",
       "      <td>12.0</td>\n",
       "      <td>2318.22</td>\n",
       "      <td>29.31</td>\n",
       "      <td>39.35</td>\n",
       "      <td>909.28</td>\n",
       "      <td>1340.30</td>\n",
       "    </tr>\n",
       "    <tr>\n",
       "      <th>524</th>\n",
       "      <td>1982</td>\n",
       "      <td>NY03030</td>\n",
       "      <td>New York City, NY</td>\n",
       "      <td>7096559.0</td>\n",
       "      <td>143943.0</td>\n",
       "      <td>1668.0</td>\n",
       "      <td>3547.0</td>\n",
       "      <td>42784.0</td>\n",
       "      <td>95944.0</td>\n",
       "      <td>12.0</td>\n",
       "      <td>2028.35</td>\n",
       "      <td>23.50</td>\n",
       "      <td>49.98</td>\n",
       "      <td>602.88</td>\n",
       "      <td>1351.98</td>\n",
       "    </tr>\n",
       "    <tr>\n",
       "      <th>1007</th>\n",
       "      <td>1989</td>\n",
       "      <td>NY03030</td>\n",
       "      <td>New York City, NY</td>\n",
       "      <td>7369454.0</td>\n",
       "      <td>169487.0</td>\n",
       "      <td>1905.0</td>\n",
       "      <td>3254.0</td>\n",
       "      <td>70951.0</td>\n",
       "      <td>93377.0</td>\n",
       "      <td>12.0</td>\n",
       "      <td>2299.86</td>\n",
       "      <td>25.85</td>\n",
       "      <td>44.16</td>\n",
       "      <td>962.77</td>\n",
       "      <td>1267.08</td>\n",
       "    </tr>\n",
       "    <tr>\n",
       "      <th>1214</th>\n",
       "      <td>1992</td>\n",
       "      <td>NY03030</td>\n",
       "      <td>New York City, NY</td>\n",
       "      <td>7375097.0</td>\n",
       "      <td>159578.0</td>\n",
       "      <td>1995.0</td>\n",
       "      <td>2815.0</td>\n",
       "      <td>63529.0</td>\n",
       "      <td>91239.0</td>\n",
       "      <td>12.0</td>\n",
       "      <td>2163.74</td>\n",
       "      <td>27.05</td>\n",
       "      <td>38.17</td>\n",
       "      <td>861.40</td>\n",
       "      <td>1237.12</td>\n",
       "    </tr>\n",
       "    <tr>\n",
       "      <th>938</th>\n",
       "      <td>1988</td>\n",
       "      <td>NY03030</td>\n",
       "      <td>New York City, NY</td>\n",
       "      <td>7346352.0</td>\n",
       "      <td>162916.0</td>\n",
       "      <td>1896.0</td>\n",
       "      <td>3412.0</td>\n",
       "      <td>71030.0</td>\n",
       "      <td>86578.0</td>\n",
       "      <td>12.0</td>\n",
       "      <td>2217.64</td>\n",
       "      <td>25.81</td>\n",
       "      <td>46.44</td>\n",
       "      <td>966.87</td>\n",
       "      <td>1178.52</td>\n",
       "    </tr>\n",
       "    <tr>\n",
       "      <th>110</th>\n",
       "      <td>1976</td>\n",
       "      <td>NY03030</td>\n",
       "      <td>New York City, NY</td>\n",
       "      <td>7530493.0</td>\n",
       "      <td>134153.0</td>\n",
       "      <td>1622.0</td>\n",
       "      <td>3400.0</td>\n",
       "      <td>42948.0</td>\n",
       "      <td>86183.0</td>\n",
       "      <td>12.0</td>\n",
       "      <td>1781.46</td>\n",
       "      <td>21.54</td>\n",
       "      <td>45.15</td>\n",
       "      <td>570.32</td>\n",
       "      <td>1144.45</td>\n",
       "    </tr>\n",
       "    <tr>\n",
       "      <th>1283</th>\n",
       "      <td>1993</td>\n",
       "      <td>NY03030</td>\n",
       "      <td>New York City, NY</td>\n",
       "      <td>7347257.0</td>\n",
       "      <td>153543.0</td>\n",
       "      <td>1946.0</td>\n",
       "      <td>2818.0</td>\n",
       "      <td>62778.0</td>\n",
       "      <td>86001.0</td>\n",
       "      <td>12.0</td>\n",
       "      <td>2089.80</td>\n",
       "      <td>26.49</td>\n",
       "      <td>38.35</td>\n",
       "      <td>854.44</td>\n",
       "      <td>1170.52</td>\n",
       "    </tr>\n",
       "  </tbody>\n",
       "</table>\n",
       "</div>"
      ],
      "text/plain": [
       "      report_year agency_code agency_jurisdiction  population  violent_crimes  \\\n",
       "455          1981     NY03030   New York City, NY   7070429.0        156946.0   \n",
       "386          1980     NY03030   New York City, NY   7035348.0        149549.0   \n",
       "1076         1990     NY03030   New York City, NY   7322564.0        174542.0   \n",
       "1145         1991     NY03030   New York City, NY   7350023.0        170390.0   \n",
       "524          1982     NY03030   New York City, NY   7096559.0        143943.0   \n",
       "1007         1989     NY03030   New York City, NY   7369454.0        169487.0   \n",
       "1214         1992     NY03030   New York City, NY   7375097.0        159578.0   \n",
       "938          1988     NY03030   New York City, NY   7346352.0        162916.0   \n",
       "110          1976     NY03030   New York City, NY   7530493.0        134153.0   \n",
       "1283         1993     NY03030   New York City, NY   7347257.0        153543.0   \n",
       "\n",
       "      homicides   rapes  assaults  robberies  months_reported  \\\n",
       "455      1826.0  3862.0   43783.0   107475.0             12.0   \n",
       "386      1812.0  3711.0   43476.0   100550.0             12.0   \n",
       "1076     2245.0  3126.0   68891.0   100280.0             12.0   \n",
       "1145     2154.0  2892.0   66832.0    98512.0             12.0   \n",
       "524      1668.0  3547.0   42784.0    95944.0             12.0   \n",
       "1007     1905.0  3254.0   70951.0    93377.0             12.0   \n",
       "1214     1995.0  2815.0   63529.0    91239.0             12.0   \n",
       "938      1896.0  3412.0   71030.0    86578.0             12.0   \n",
       "110      1622.0  3400.0   42948.0    86183.0             12.0   \n",
       "1283     1946.0  2818.0   62778.0    86001.0             12.0   \n",
       "\n",
       "      crimes_percapita  homicides_percapita  rapes_percapita  \\\n",
       "455            2219.75                25.83            54.62   \n",
       "386            2125.68                25.76            52.75   \n",
       "1076           2383.62                30.66            42.69   \n",
       "1145           2318.22                29.31            39.35   \n",
       "524            2028.35                23.50            49.98   \n",
       "1007           2299.86                25.85            44.16   \n",
       "1214           2163.74                27.05            38.17   \n",
       "938            2217.64                25.81            46.44   \n",
       "110            1781.46                21.54            45.15   \n",
       "1283           2089.80                26.49            38.35   \n",
       "\n",
       "      assaults_percapita  robberies_percapita  \n",
       "455               619.24              1520.06  \n",
       "386               617.97              1429.21  \n",
       "1076              940.80              1369.47  \n",
       "1145              909.28              1340.30  \n",
       "524               602.88              1351.98  \n",
       "1007              962.77              1267.08  \n",
       "1214              861.40              1237.12  \n",
       "938               966.87              1178.52  \n",
       "110               570.32              1144.45  \n",
       "1283              854.44              1170.52  "
      ]
     },
     "execution_count": 7,
     "metadata": {},
     "output_type": "execute_result"
    }
   ],
   "source": [
    "d.nlargest(10, ['robberies'])"
   ]
  },
  {
   "cell_type": "markdown",
   "metadata": {},
   "source": [
    "It can seen that NYC has seen highest number of robberies in 80s and 90s."
   ]
  },
  {
   "cell_type": "markdown",
   "metadata": {},
   "source": [
    "## Sort"
   ]
  },
  {
   "cell_type": "markdown",
   "metadata": {},
   "source": [
    "Now, we will sort the dataset according to the column agency jurisdiction which has 69 unique values."
   ]
  },
  {
   "cell_type": "code",
   "execution_count": 11,
   "metadata": {},
   "outputs": [
    {
     "data": {
      "text/html": [
       "<div>\n",
       "<style scoped>\n",
       "    .dataframe tbody tr th:only-of-type {\n",
       "        vertical-align: middle;\n",
       "    }\n",
       "\n",
       "    .dataframe tbody tr th {\n",
       "        vertical-align: top;\n",
       "    }\n",
       "\n",
       "    .dataframe thead th {\n",
       "        text-align: right;\n",
       "    }\n",
       "</style>\n",
       "<table border=\"1\" class=\"dataframe\">\n",
       "  <thead>\n",
       "    <tr style=\"text-align: right;\">\n",
       "      <th></th>\n",
       "      <th>report_year</th>\n",
       "      <th>agency_jurisdiction</th>\n",
       "      <th>homicides_percapita</th>\n",
       "      <th>rapes_percapita</th>\n",
       "      <th>assaults_percapita</th>\n",
       "      <th>robberies_percapita</th>\n",
       "    </tr>\n",
       "  </thead>\n",
       "  <tbody>\n",
       "    <tr>\n",
       "      <th>0</th>\n",
       "      <td>1975</td>\n",
       "      <td>Albuquerque, NM</td>\n",
       "      <td>10.48</td>\n",
       "      <td>63.23</td>\n",
       "      <td>472.68</td>\n",
       "      <td>286.13</td>\n",
       "    </tr>\n",
       "    <tr>\n",
       "      <th>621</th>\n",
       "      <td>1984</td>\n",
       "      <td>Albuquerque, NM</td>\n",
       "      <td>7.86</td>\n",
       "      <td>58.93</td>\n",
       "      <td>606.68</td>\n",
       "      <td>340.94</td>\n",
       "    </tr>\n",
       "    <tr>\n",
       "      <th>2208</th>\n",
       "      <td>2007</td>\n",
       "      <td>Albuquerque, NM</td>\n",
       "      <td>9.16</td>\n",
       "      <td>59.83</td>\n",
       "      <td>640.59</td>\n",
       "      <td>280.44</td>\n",
       "    </tr>\n",
       "    <tr>\n",
       "      <th>552</th>\n",
       "      <td>1983</td>\n",
       "      <td>Albuquerque, NM</td>\n",
       "      <td>6.76</td>\n",
       "      <td>58.00</td>\n",
       "      <td>511.03</td>\n",
       "      <td>255.94</td>\n",
       "    </tr>\n",
       "    <tr>\n",
       "      <th>2277</th>\n",
       "      <td>2008</td>\n",
       "      <td>Albuquerque, NM</td>\n",
       "      <td>7.20</td>\n",
       "      <td>70.15</td>\n",
       "      <td>561.18</td>\n",
       "      <td>255.94</td>\n",
       "    </tr>\n",
       "    <tr>\n",
       "      <th>483</th>\n",
       "      <td>1982</td>\n",
       "      <td>Albuquerque, NM</td>\n",
       "      <td>7.54</td>\n",
       "      <td>57.69</td>\n",
       "      <td>437.15</td>\n",
       "      <td>268.44</td>\n",
       "    </tr>\n",
       "    <tr>\n",
       "      <th>2346</th>\n",
       "      <td>2009</td>\n",
       "      <td>Albuquerque, NM</td>\n",
       "      <td>10.55</td>\n",
       "      <td>61.44</td>\n",
       "      <td>489.41</td>\n",
       "      <td>207.86</td>\n",
       "    </tr>\n",
       "    <tr>\n",
       "      <th>414</th>\n",
       "      <td>1981</td>\n",
       "      <td>Albuquerque, NM</td>\n",
       "      <td>13.36</td>\n",
       "      <td>63.23</td>\n",
       "      <td>480.94</td>\n",
       "      <td>328.64</td>\n",
       "    </tr>\n",
       "    <tr>\n",
       "      <th>2139</th>\n",
       "      <td>2006</td>\n",
       "      <td>Albuquerque, NM</td>\n",
       "      <td>6.79</td>\n",
       "      <td>57.09</td>\n",
       "      <td>610.63</td>\n",
       "      <td>233.75</td>\n",
       "    </tr>\n",
       "    <tr>\n",
       "      <th>2415</th>\n",
       "      <td>2010</td>\n",
       "      <td>Albuquerque, NM</td>\n",
       "      <td>7.69</td>\n",
       "      <td>61.92</td>\n",
       "      <td>544.29</td>\n",
       "      <td>172.21</td>\n",
       "    </tr>\n",
       "  </tbody>\n",
       "</table>\n",
       "</div>"
      ],
      "text/plain": [
       "      report_year agency_jurisdiction  homicides_percapita  rapes_percapita  \\\n",
       "0            1975     Albuquerque, NM                10.48            63.23   \n",
       "621          1984     Albuquerque, NM                 7.86            58.93   \n",
       "2208         2007     Albuquerque, NM                 9.16            59.83   \n",
       "552          1983     Albuquerque, NM                 6.76            58.00   \n",
       "2277         2008     Albuquerque, NM                 7.20            70.15   \n",
       "483          1982     Albuquerque, NM                 7.54            57.69   \n",
       "2346         2009     Albuquerque, NM                10.55            61.44   \n",
       "414          1981     Albuquerque, NM                13.36            63.23   \n",
       "2139         2006     Albuquerque, NM                 6.79            57.09   \n",
       "2415         2010     Albuquerque, NM                 7.69            61.92   \n",
       "\n",
       "      assaults_percapita  robberies_percapita  \n",
       "0                 472.68               286.13  \n",
       "621               606.68               340.94  \n",
       "2208              640.59               280.44  \n",
       "552               511.03               255.94  \n",
       "2277              561.18               255.94  \n",
       "483               437.15               268.44  \n",
       "2346              489.41               207.86  \n",
       "414               480.94               328.64  \n",
       "2139              610.63               233.75  \n",
       "2415              544.29               172.21  "
      ]
     },
     "execution_count": 11,
     "metadata": {},
     "output_type": "execute_result"
    }
   ],
   "source": [
    "new_d = pd.DataFrame(d, columns =['report_year','agency_jurisdiction','homicides_percapita','rapes_percapita','assaults_percapita','robberies_percapita'])\n",
    "sort_d = new_d.sort_values('agency_jurisdiction')\n",
    "sort_d.head(10)"
   ]
  },
  {
   "cell_type": "markdown",
   "metadata": {},
   "source": [
    "## 5) Series"
   ]
  },
  {
   "cell_type": "markdown",
   "metadata": {},
   "source": [
    "The column Violent crimes contain total of all the four major crimes. Now we will find total number of all violent crimes in US from 1975 to 2015"
   ]
  },
  {
   "cell_type": "code",
   "execution_count": 12,
   "metadata": {},
   "outputs": [
    {
     "name": "stdout",
     "output_type": "stream",
     "text": [
      "Total number of violent crimes in US is: 82793331.0\n"
     ]
    }
   ],
   "source": [
    "d.fillna(value=0)\n",
    "violent_crimes=d[\"violent_crimes\"]\n",
    "total_number_of_crimes=np.nansum(violent_crimes)\n",
    "print(\"Total number of violent crimes in US is:\",total_number_of_crimes)"
   ]
  },
  {
   "cell_type": "markdown",
   "metadata": {},
   "source": [
    "Since NYC has the maximum number of crimes, we look further into crimes specifically in NYC."
   ]
  },
  {
   "cell_type": "code",
   "execution_count": 13,
   "metadata": {},
   "outputs": [],
   "source": [
    "NYC = d[d.agency_jurisdiction == 'New York City, NY']"
   ]
  },
  {
   "cell_type": "code",
   "execution_count": 37,
   "metadata": {},
   "outputs": [
    {
     "data": {
      "text/plain": [
       "Text(0,0.5,'Number of Homicides')"
      ]
     },
     "execution_count": 37,
     "metadata": {},
     "output_type": "execute_result"
    },
    {
     "data": {
      "image/png": "[encoded data removed]",
      "text/plain": [
       "<matplotlib.figure.Figure at 0x210abf141d0>"
      ]
     },
     "metadata": {},
     "output_type": "display_data"
    }
   ],
   "source": [
    "plt.figure(figsize=(18,10))\n",
    "h = plt.subplot(511)\n",
    "sns.barplot(NYC[\"report_year\"], NYC[\"homicides\"])\n",
    "plt.ylabel(\"Number of Homicides\")\n",
    "\n"
   ]
  },
  {
   "cell_type": "markdown",
   "metadata": {},
   "source": [
    "The above plot depicts all the homicides in NYC over the period of time from 1995 to 2015"
   ]
  },
  {
   "cell_type": "code",
   "execution_count": 29,
   "metadata": {},
   "outputs": [
    {
     "data": {
      "text/plain": [
       "Text(0,0.5,'Number of Rapes')"
      ]
     },
     "execution_count": 29,
     "metadata": {},
     "output_type": "execute_result"
    },
    {
     "data": {
      "image/png": "[encoded data removed]",
      "text/plain": [
       "<matplotlib.figure.Figure at 0x210a9be6630>"
      ]
     },
     "metadata": {},
     "output_type": "display_data"
    }
   ],
   "source": [
    "plt.figure(figsize=(18,10))\n",
    "R2 = plt.subplot(512)\n",
    "sns.barplot(NYC[\"report_year\"], NYC[\"rapes\"])\n",
    "plt.ylabel(\"Number of Rapes\")"
   ]
  },
  {
   "cell_type": "markdown",
   "metadata": {},
   "source": [
    "The above plot depicts all the rape crimes in NYC over the period of time from 1995 to 2015.<br> It can be seen that there has been rise in rapes in 2014 and 2015. "
   ]
  },
  {
   "cell_type": "code",
   "execution_count": 28,
   "metadata": {},
   "outputs": [
    {
     "data": {
      "text/plain": [
       "Text(0,0.5,'Number of Robberies')"
      ]
     },
     "execution_count": 28,
     "metadata": {},
     "output_type": "execute_result"
    },
    {
     "data": {
      "image/png": "[encoded data removed]",
      "text/plain": [
       "<matplotlib.figure.Figure at 0x210aa6dfb00>"
      ]
     },
     "metadata": {},
     "output_type": "display_data"
    }
   ],
   "source": [
    "plt.figure(figsize=(18,10))\n",
    "R = plt.subplot(513)\n",
    "sns.barplot(NYC[\"report_year\"], NYC[\"robberies\"])\n",
    "plt.ylabel(\"Number of Robberies\")"
   ]
  },
  {
   "cell_type": "markdown",
   "metadata": {},
   "source": [
    "The above plot depicts all the robberies in NYC over the period of time from 1995 to 2015.<br> It can be seen that there has been steady decline in robberies in 2014 and 2015."
   ]
  },
  {
   "cell_type": "code",
   "execution_count": 32,
   "metadata": {},
   "outputs": [
    {
     "data": {
      "text/plain": [
       "Text(0,0.5,'Number of Assaults')"
      ]
     },
     "execution_count": 32,
     "metadata": {},
     "output_type": "execute_result"
    },
    {
     "data": {
      "image/png": "[encoded data removed]",
      "text/plain": [
       "<matplotlib.figure.Figure at 0x210aaa0bcc0>"
      ]
     },
     "metadata": {},
     "output_type": "display_data"
    }
   ],
   "source": [
    "plt.figure(figsize=(18,10))\n",
    "a = plt.subplot(514)\n",
    "sns.barplot(NYC[\"report_year\"], NYC[\"assaults\"])\n",
    "plt.ylabel(\"Number of Assaults\")"
   ]
  },
  {
   "cell_type": "markdown",
   "metadata": {},
   "source": [
    "The above plot depicts all the assaults in NYC over the period of time from 1995 to 2015.<br> It can be seen that there is steady growth in assaults in 2014 and 2015."
   ]
  },
  {
   "cell_type": "code",
   "execution_count": 46,
   "metadata": {},
   "outputs": [],
   "source": [
    "dv=NYC[NYC[\"report_year\"]>2009]"
   ]
  },
  {
   "cell_type": "code",
   "execution_count": 47,
   "metadata": {},
   "outputs": [
    {
     "data": {
      "text/html": [
       "<div>\n",
       "<style scoped>\n",
       "    .dataframe tbody tr th:only-of-type {\n",
       "        vertical-align: middle;\n",
       "    }\n",
       "\n",
       "    .dataframe tbody tr th {\n",
       "        vertical-align: top;\n",
       "    }\n",
       "\n",
       "    .dataframe thead th {\n",
       "        text-align: right;\n",
       "    }\n",
       "</style>\n",
       "<table border=\"1\" class=\"dataframe\">\n",
       "  <thead>\n",
       "    <tr style=\"text-align: right;\">\n",
       "      <th></th>\n",
       "      <th>report_year</th>\n",
       "      <th>agency_code</th>\n",
       "      <th>agency_jurisdiction</th>\n",
       "      <th>population</th>\n",
       "      <th>violent_crimes</th>\n",
       "      <th>homicides</th>\n",
       "      <th>rapes</th>\n",
       "      <th>assaults</th>\n",
       "      <th>robberies</th>\n",
       "      <th>months_reported</th>\n",
       "      <th>crimes_percapita</th>\n",
       "      <th>homicides_percapita</th>\n",
       "      <th>rapes_percapita</th>\n",
       "      <th>assaults_percapita</th>\n",
       "      <th>robberies_percapita</th>\n",
       "    </tr>\n",
       "  </thead>\n",
       "  <tbody>\n",
       "    <tr>\n",
       "      <th>2456</th>\n",
       "      <td>2010</td>\n",
       "      <td>NY03030</td>\n",
       "      <td>New York City, NY</td>\n",
       "      <td>8175133.0</td>\n",
       "      <td>48489.0</td>\n",
       "      <td>536.0</td>\n",
       "      <td>1036.0</td>\n",
       "      <td>27309.0</td>\n",
       "      <td>19608.0</td>\n",
       "      <td>12.0</td>\n",
       "      <td>593.13</td>\n",
       "      <td>6.56</td>\n",
       "      <td>12.67</td>\n",
       "      <td>334.05</td>\n",
       "      <td>239.85</td>\n",
       "    </tr>\n",
       "    <tr>\n",
       "      <th>2525</th>\n",
       "      <td>2011</td>\n",
       "      <td>NY03030</td>\n",
       "      <td>New York City, NY</td>\n",
       "      <td>8211875.0</td>\n",
       "      <td>51209.0</td>\n",
       "      <td>515.0</td>\n",
       "      <td>1092.0</td>\n",
       "      <td>29829.0</td>\n",
       "      <td>19773.0</td>\n",
       "      <td>12.0</td>\n",
       "      <td>623.60</td>\n",
       "      <td>6.27</td>\n",
       "      <td>13.30</td>\n",
       "      <td>363.24</td>\n",
       "      <td>240.79</td>\n",
       "    </tr>\n",
       "    <tr>\n",
       "      <th>2594</th>\n",
       "      <td>2012</td>\n",
       "      <td>NY03030</td>\n",
       "      <td>New York City, NY</td>\n",
       "      <td>8289415.0</td>\n",
       "      <td>52993.0</td>\n",
       "      <td>419.0</td>\n",
       "      <td>1162.0</td>\n",
       "      <td>31211.0</td>\n",
       "      <td>20201.0</td>\n",
       "      <td>12.0</td>\n",
       "      <td>639.29</td>\n",
       "      <td>5.05</td>\n",
       "      <td>14.02</td>\n",
       "      <td>376.52</td>\n",
       "      <td>243.70</td>\n",
       "    </tr>\n",
       "    <tr>\n",
       "      <th>2663</th>\n",
       "      <td>2013</td>\n",
       "      <td>NY03030</td>\n",
       "      <td>New York City, NY</td>\n",
       "      <td>8396126.0</td>\n",
       "      <td>52384.0</td>\n",
       "      <td>335.0</td>\n",
       "      <td>1112.0</td>\n",
       "      <td>31767.0</td>\n",
       "      <td>19170.0</td>\n",
       "      <td>12.0</td>\n",
       "      <td>623.91</td>\n",
       "      <td>3.99</td>\n",
       "      <td>13.24</td>\n",
       "      <td>378.35</td>\n",
       "      <td>228.32</td>\n",
       "    </tr>\n",
       "    <tr>\n",
       "      <th>2732</th>\n",
       "      <td>2014</td>\n",
       "      <td>NY03030</td>\n",
       "      <td>New York City, NY</td>\n",
       "      <td>8473938.0</td>\n",
       "      <td>50564.0</td>\n",
       "      <td>333.0</td>\n",
       "      <td>2190.0</td>\n",
       "      <td>31460.0</td>\n",
       "      <td>16581.0</td>\n",
       "      <td>12.0</td>\n",
       "      <td>596.70</td>\n",
       "      <td>3.93</td>\n",
       "      <td>25.84</td>\n",
       "      <td>371.26</td>\n",
       "      <td>195.67</td>\n",
       "    </tr>\n",
       "  </tbody>\n",
       "</table>\n",
       "</div>"
      ],
      "text/plain": [
       "      report_year agency_code agency_jurisdiction  population  violent_crimes  \\\n",
       "2456         2010     NY03030   New York City, NY   8175133.0         48489.0   \n",
       "2525         2011     NY03030   New York City, NY   8211875.0         51209.0   \n",
       "2594         2012     NY03030   New York City, NY   8289415.0         52993.0   \n",
       "2663         2013     NY03030   New York City, NY   8396126.0         52384.0   \n",
       "2732         2014     NY03030   New York City, NY   8473938.0         50564.0   \n",
       "\n",
       "      homicides   rapes  assaults  robberies  months_reported  \\\n",
       "2456      536.0  1036.0   27309.0    19608.0             12.0   \n",
       "2525      515.0  1092.0   29829.0    19773.0             12.0   \n",
       "2594      419.0  1162.0   31211.0    20201.0             12.0   \n",
       "2663      335.0  1112.0   31767.0    19170.0             12.0   \n",
       "2732      333.0  2190.0   31460.0    16581.0             12.0   \n",
       "\n",
       "      crimes_percapita  homicides_percapita  rapes_percapita  \\\n",
       "2456            593.13                 6.56            12.67   \n",
       "2525            623.60                 6.27            13.30   \n",
       "2594            639.29                 5.05            14.02   \n",
       "2663            623.91                 3.99            13.24   \n",
       "2732            596.70                 3.93            25.84   \n",
       "\n",
       "      assaults_percapita  robberies_percapita  \n",
       "2456              334.05               239.85  \n",
       "2525              363.24               240.79  \n",
       "2594              376.52               243.70  \n",
       "2663              378.35               228.32  \n",
       "2732              371.26               195.67  "
      ]
     },
     "execution_count": 47,
     "metadata": {},
     "output_type": "execute_result"
    }
   ],
   "source": [
    "dv.head(5)"
   ]
  },
  {
   "cell_type": "markdown",
   "metadata": {},
   "source": [
    "The above dataframe shows all the crimes in all categories in recent years after 2009."
   ]
  },
  {
   "cell_type": "markdown",
   "metadata": {},
   "source": [
    "## 6) Plot"
   ]
  },
  {
   "cell_type": "code",
   "execution_count": 53,
   "metadata": {},
   "outputs": [
    {
     "data": {
      "text/plain": [
       "[Text(0,0.5,'City'), Text(0.5,0,'Total number of crimes')]"
      ]
     },
     "execution_count": 53,
     "metadata": {},
     "output_type": "execute_result"
    },
    {
     "data": {
      "image/png": "[encoded data removed]",
      "text/plain": [
       "<matplotlib.figure.Figure at 0x210acb1d5f8>"
      ]
     },
     "metadata": {},
     "output_type": "display_data"
    }
   ],
   "source": [
    "ax=plt.figure(figsize=(10,22))\n",
    "ax = sns.barplot(d[\"violent_crimes\"]+d[\"homicides\"]+\n",
    "                 d[\"rapes\"]+d[\"assaults\"]+d[\"robberies\"],                 \n",
    "                 y=d[\"agency_jurisdiction\"],estimator=sum ,ci=0)\n",
    "ax.set_title('Total crimes in US from 1975-2015)')\n",
    "ax.set(xlabel='Total number of crimes', ylabel='City')"
   ]
  },
  {
   "cell_type": "markdown",
   "metadata": {},
   "source": [
    "The above plot shows the total of all the crimes in all the cities to find which city has most number of crimes."
   ]
  },
  {
   "cell_type": "markdown",
   "metadata": {},
   "source": [
    "## 7) Summary"
   ]
  },
  {
   "cell_type": "markdown",
   "metadata": {},
   "source": [
    "This dataset included crime cases from 68 cities. From the above plot it can be seen that from all the cities in US, NYC has most number of violent crimes wih Chicago coming second as LA third. In NYC, there has been steady decrease in homicides over the years. But there has been increase in rape cases in year of 2014 and 2015. Robberies are also decreasing over the years due to moden security technologies available. Assault are steady over the years. They are not decreasing over the time. While it can be seen that total crime rate has been reduced, some cities still need assistance.    "
   ]
  },
  {
   "cell_type": "markdown",
   "metadata": {},
   "source": [
    "## 8) Recommendation"
   ]
  },
  {
   "cell_type": "markdown",
   "metadata": {},
   "source": [
    "My recommendation is to focus on reducing assault crimes as they have not reduced over the years. Also increase petrolling for the same. Since there is increase in rapes in 2014 and 2015, it is necessary to increase security and make it easier for victims to come forward. More financial support should be given to the cities with high crime rates and underlying causes should be found for repeat offenders.  "
   ]
  },
  {
   "cell_type": "code",
   "execution_count": null,
   "metadata": {},
   "outputs": [],
   "source": []
  }
 ],
 "metadata": {
  "kernelspec": {
   "display_name": "Python 3",
   "language": "python",
   "name": "python3"
  },
  "language_info": {
   "codemirror_mode": {
    "name": "ipython",
    "version": 3
   },
   "file_extension": ".py",
   "mimetype": "text/x-python",
   "name": "python",
   "nbconvert_exporter": "python",
   "pygments_lexer": "ipython3",
   "version": "3.6.10"
  }
 },
 "nbformat": 4,
 "nbformat_minor": 2
}
